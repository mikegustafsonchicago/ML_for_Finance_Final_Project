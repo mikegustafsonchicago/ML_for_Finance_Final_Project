{
 "cells": [
  {
   "cell_type": "code",
   "execution_count": 1,
   "id": "5ecf2ab2",
   "metadata": {},
   "outputs": [],
   "source": [
    "import pandas as pd\n",
    "import numpy as np\n",
    "import matplotlib.pyplot as plt\n",
    "import os"
   ]
  },
  {
   "cell_type": "code",
   "execution_count": 2,
   "id": "d343a792",
   "metadata": {},
   "outputs": [],
   "source": [
    "df = pd.read_csv('US_Locations-0.csv')"
   ]
  },
  {
   "cell_type": "code",
   "execution_count": 4,
   "id": "6e23d261",
   "metadata": {},
   "outputs": [],
   "source": [
    "target = df[df.ID == 'KORD']"
   ]
  },
  {
   "cell_type": "code",
   "execution_count": null,
   "id": "15b1ad29",
   "metadata": {},
   "outputs": [],
   "source": [
    "def compute_distance(row):\n",
    "    np.linalg.norm(row.LATITUDE_COORDINATES - target.LATITUDE_COORDINATES, row.LONGITUDE_COORDINATES - - target.LATITUDE_COORDINATES)"
   ]
  },
  {
   "cell_type": "code",
   "execution_count": 5,
   "id": "3b908aaf",
   "metadata": {},
   "outputs": [
    {
     "data": {
      "text/html": [
       "<div>\n",
       "<style scoped>\n",
       "    .dataframe tbody tr th:only-of-type {\n",
       "        vertical-align: middle;\n",
       "    }\n",
       "\n",
       "    .dataframe tbody tr th {\n",
       "        vertical-align: top;\n",
       "    }\n",
       "\n",
       "    .dataframe thead th {\n",
       "        text-align: right;\n",
       "    }\n",
       "</style>\n",
       "<table border=\"1\" class=\"dataframe\">\n",
       "  <thead>\n",
       "    <tr style=\"text-align: right;\">\n",
       "      <th></th>\n",
       "      <th>ID</th>\n",
       "      <th>STATION_NAME</th>\n",
       "      <th>STATE_CODE</th>\n",
       "      <th>COUNTRY_CODE</th>\n",
       "      <th>LATITUDE_COORDINATES</th>\n",
       "      <th>LONGITUDE_COORDINATES</th>\n",
       "      <th>TIME_ZONE</th>\n",
       "      <th>ELEVATION_IN_METERS</th>\n",
       "    </tr>\n",
       "  </thead>\n",
       "  <tbody>\n",
       "    <tr>\n",
       "      <th>1480</th>\n",
       "      <td>KORD</td>\n",
       "      <td>Chicago - Chicago-O'Hare International Airport</td>\n",
       "      <td>IL</td>\n",
       "      <td>US</td>\n",
       "      <td>41.9786</td>\n",
       "      <td>-87.9048</td>\n",
       "      <td>America/Chicago</td>\n",
       "      <td>205.0</td>\n",
       "    </tr>\n",
       "  </tbody>\n",
       "</table>\n",
       "</div>"
      ],
      "text/plain": [
       "        ID                                    STATION_NAME STATE_CODE  \\\n",
       "1480  KORD  Chicago - Chicago-O'Hare International Airport         IL   \n",
       "\n",
       "     COUNTRY_CODE  LATITUDE_COORDINATES  LONGITUDE_COORDINATES  \\\n",
       "1480           US               41.9786               -87.9048   \n",
       "\n",
       "            TIME_ZONE  ELEVATION_IN_METERS  \n",
       "1480  America/Chicago                205.0  "
      ]
     },
     "execution_count": 5,
     "metadata": {},
     "output_type": "execute_result"
    }
   ],
   "source": [
    "target"
   ]
  },
  {
   "cell_type": "code",
   "execution_count": null,
   "id": "bc6c18f1",
   "metadata": {},
   "outputs": [],
   "source": []
  },
  {
   "cell_type": "code",
   "execution_count": null,
   "id": "16cea4c8",
   "metadata": {},
   "outputs": [],
   "source": []
  },
  {
   "cell_type": "code",
   "execution_count": null,
   "id": "9abbfb49",
   "metadata": {},
   "outputs": [],
   "source": []
  },
  {
   "cell_type": "code",
   "execution_count": null,
   "id": "84ae24b0",
   "metadata": {},
   "outputs": [],
   "source": []
  }
 ],
 "metadata": {
  "kernelspec": {
   "display_name": "base",
   "language": "python",
   "name": "python3"
  },
  "language_info": {
   "codemirror_mode": {
    "name": "ipython",
    "version": 3
   },
   "file_extension": ".py",
   "mimetype": "text/x-python",
   "name": "python",
   "nbconvert_exporter": "python",
   "pygments_lexer": "ipython3",
   "version": "3.12.7"
  }
 },
 "nbformat": 4,
 "nbformat_minor": 5
}
