{
 "cells": [
  {
   "cell_type": "markdown",
   "id": "8574df1b",
   "metadata": {},
   "source": [
    "# ML"
   ]
  },
  {
   "cell_type": "markdown",
   "id": "8aa85899",
   "metadata": {},
   "source": [
    "## 1) Data"
   ]
  },
  {
   "cell_type": "code",
   "execution_count": 25,
   "id": "77a66d54",
   "metadata": {},
   "outputs": [],
   "source": [
    "import pandas as pd \n",
    "import numpy as np\n",
    "pd.set_option('display.max_columns', 500)\n",
    "import torch\n",
    "from torch.utils.data import DataLoader, TensorDataset"
   ]
  },
  {
   "cell_type": "code",
   "execution_count": 26,
   "id": "b49ae834",
   "metadata": {},
   "outputs": [],
   "source": [
    "df = pd.read_csv('../data/datastep2.csv')\n",
    "df['datetime'] = pd.to_datetime(df['datetime'], format = '%Y%m%d%H%M')\n",
    "# df = df[df.id == 'KORD'] #chad only KORD\n",
    "df.set_index(['datetime', 'id'], inplace=True)\n",
    "df.sort_index(inplace=True)"
   ]
  },
  {
   "cell_type": "code",
   "execution_count": null,
   "id": "9044dadd",
   "metadata": {},
   "outputs": [],
   "source": []
  },
  {
   "cell_type": "code",
   "execution_count": 29,
   "id": "9f4590da",
   "metadata": {},
   "outputs": [
    {
     "name": "stdout",
     "output_type": "stream",
     "text": [
      "0\n",
      "120000\n",
      "240000\n",
      "360000\n",
      "480000\n",
      "600000\n",
      "720000\n",
      "840000\n",
      "960000\n",
      "1080000\n",
      "1200000\n",
      "1320000\n",
      "1440000\n",
      "1560000\n",
      "1680000\n",
      "1800000\n"
     ]
    }
   ],
   "source": [
    "day_extend = 5\n",
    "feat_cols = ['temp']\n",
    "train_years = [2018, 2019, 2020, 2021, 2022]\n",
    "val_years = [2023]\n",
    "test_years = [2024, 2025]\n",
    "train_X_ls = []\n",
    "val_X_ls = []\n",
    "test_X_ls = []\n",
    "train_y_ls = []\n",
    "val_y_ls = []\n",
    "test_y_ls = []\n",
    "test_Z_ls = []\n",
    "\n",
    "# T = len(df)\n",
    "T = len(df)\n",
    "terminate_date = pd.to_datetime('2025-03-21')\n",
    "## while loop till end\n",
    "for i in range(0, T, 12):\n",
    "    if i % 120_000 == 0: print(i)\n",
    "    day_in = df.index[i][0]\n",
    "    if day_in > terminate_date: break \n",
    "    day_out = day_in + pd.Timedelta(days=day_extend)\n",
    "    day_out_out = day_out + pd.Timedelta(days=day_extend)\n",
    "    obj = df.loc[(slice(day_in, day_out))]\n",
    "    obj_X = obj[feat_cols].ffill().bfill()\n",
    "    if len(obj_X) != (day_extend*24+1)*30: #30 ids *30 usually\n",
    "        continue\n",
    "\n",
    "    obj2 = df.loc[(slice(day_in, day_out_out))]\n",
    "    ts_out_out = obj2.index[-1][0]\n",
    "\n",
    "    try:\n",
    "        obj_Y = obj2.loc[(ts_out_out, 'KORD')].temp\n",
    "    except:\n",
    "        continue\n",
    "\n",
    "    if np.isnan(obj_Y):\n",
    "        continue\n",
    "\n",
    "    if day_in.year in train_years: train_X_ls.append(obj_X.values), train_y_ls.append(obj_Y)\n",
    "    elif day_in.year in val_years: val_X_ls.append(obj_X.values), val_y_ls.append(obj_Y)\n",
    "    elif day_in.year in test_years: test_X_ls.append(obj_X.values), test_y_ls.append(obj_Y), test_Z_ls.append(obj_X.reset_index())\n",
    "    else: raise ValueError(f\"year unknown: {day_in.year}\")\n",
    "\n",
    "train_X_np, val_X_np, test_X_np = np.array(train_X_ls), np.array(val_X_ls), np.array(test_X_ls)\n",
    "train_y_np, val_y_np, test_y_np = np.array(train_y_ls), np.array(val_y_ls), np.array(test_y_ls)\n",
    "\n",
    "train_X_t, val_X_t, test_X_t = torch.tensor(train_X_np, dtype=torch.float32), torch.tensor(val_X_np, dtype=torch.float32), torch.tensor(test_X_np, dtype=torch.float32)\n",
    "train_y_t, val_y_t, test_y_t = torch.tensor(train_y_np, dtype=torch.float32), torch.tensor(val_y_np, dtype=torch.float32), torch.tensor(test_y_np, dtype=torch.float32)\n",
    "\n",
    "train_ds, val_ds, test_ds = TensorDataset(train_X_t, train_y_t), TensorDataset(val_X_t, val_y_t), TensorDataset(test_X_t, test_y_t)\n",
    "\n",
    "train_dl = DataLoader(train_ds, batch_size=256, shuffle=False) \n",
    "val_dl   = DataLoader(val_ds, batch_size=256, shuffle=False) \n",
    "test_dl  = DataLoader(test_ds, batch_size=256, shuffle=False)\n",
    "\n",
    "torch.save(train_dl, '../data/dl/train_dl.pth')\n",
    "torch.save(val_dl, '../data/dl/val_dl.pth')\n",
    "torch.save(test_dl, '../data/dl/test_dl.pth')\n",
    "\n",
    "np.save('../data/Z.npy', np.array(test_Z_ls))\n"
   ]
  },
  {
   "cell_type": "code",
   "execution_count": null,
   "id": "ec26baba",
   "metadata": {},
   "outputs": [],
   "source": []
  },
  {
   "cell_type": "code",
   "execution_count": 24,
   "id": "e65f070e",
   "metadata": {},
   "outputs": [],
   "source": [
    "df = pd.read_csv('preds/test_pred1.csv')"
   ]
  },
  {
   "cell_type": "code",
   "execution_count": 25,
   "id": "0f7e3a29",
   "metadata": {},
   "outputs": [
    {
     "data": {
      "text/html": [
       "<div>\n",
       "<style scoped>\n",
       "    .dataframe tbody tr th:only-of-type {\n",
       "        vertical-align: middle;\n",
       "    }\n",
       "\n",
       "    .dataframe tbody tr th {\n",
       "        vertical-align: top;\n",
       "    }\n",
       "\n",
       "    .dataframe thead th {\n",
       "        text-align: right;\n",
       "    }\n",
       "</style>\n",
       "<table border=\"1\" class=\"dataframe\">\n",
       "  <thead>\n",
       "    <tr style=\"text-align: right;\">\n",
       "      <th></th>\n",
       "      <th>Unnamed: 0</th>\n",
       "      <th>dt</th>\n",
       "      <th>pred</th>\n",
       "      <th>true</th>\n",
       "    </tr>\n",
       "  </thead>\n",
       "  <tbody>\n",
       "    <tr>\n",
       "      <th>0</th>\n",
       "      <td>0</td>\n",
       "      <td>2024-01-06 00:00:00</td>\n",
       "      <td>0.581105</td>\n",
       "      <td>0.0</td>\n",
       "    </tr>\n",
       "    <tr>\n",
       "      <th>1</th>\n",
       "      <td>3</td>\n",
       "      <td>2024-01-06 01:00:00</td>\n",
       "      <td>0.703946</td>\n",
       "      <td>0.6</td>\n",
       "    </tr>\n",
       "    <tr>\n",
       "      <th>2</th>\n",
       "      <td>5</td>\n",
       "      <td>2024-01-06 02:00:00</td>\n",
       "      <td>0.782499</td>\n",
       "      <td>0.0</td>\n",
       "    </tr>\n",
       "    <tr>\n",
       "      <th>3</th>\n",
       "      <td>8</td>\n",
       "      <td>2024-01-06 03:00:00</td>\n",
       "      <td>0.815235</td>\n",
       "      <td>0.6</td>\n",
       "    </tr>\n",
       "    <tr>\n",
       "      <th>4</th>\n",
       "      <td>10</td>\n",
       "      <td>2024-01-06 04:00:00</td>\n",
       "      <td>0.782262</td>\n",
       "      <td>0.6</td>\n",
       "    </tr>\n",
       "    <tr>\n",
       "      <th>...</th>\n",
       "      <td>...</td>\n",
       "      <td>...</td>\n",
       "      <td>...</td>\n",
       "      <td>...</td>\n",
       "    </tr>\n",
       "    <tr>\n",
       "      <th>8926</th>\n",
       "      <td>22316</td>\n",
       "      <td>2025-03-25 20:00:00</td>\n",
       "      <td>5.520691</td>\n",
       "      <td>9.4</td>\n",
       "    </tr>\n",
       "    <tr>\n",
       "      <th>8927</th>\n",
       "      <td>22319</td>\n",
       "      <td>2025-03-25 21:00:00</td>\n",
       "      <td>4.874802</td>\n",
       "      <td>8.3</td>\n",
       "    </tr>\n",
       "    <tr>\n",
       "      <th>8928</th>\n",
       "      <td>22321</td>\n",
       "      <td>2025-03-25 22:00:00</td>\n",
       "      <td>4.333488</td>\n",
       "      <td>7.2</td>\n",
       "    </tr>\n",
       "    <tr>\n",
       "      <th>8929</th>\n",
       "      <td>22324</td>\n",
       "      <td>2025-03-25 23:00:00</td>\n",
       "      <td>3.853867</td>\n",
       "      <td>6.7</td>\n",
       "    </tr>\n",
       "    <tr>\n",
       "      <th>8930</th>\n",
       "      <td>22326</td>\n",
       "      <td>2025-03-26 00:00:00</td>\n",
       "      <td>3.371774</td>\n",
       "      <td>5.6</td>\n",
       "    </tr>\n",
       "  </tbody>\n",
       "</table>\n",
       "<p>8931 rows × 4 columns</p>\n",
       "</div>"
      ],
      "text/plain": [
       "      Unnamed: 0                   dt      pred  true\n",
       "0              0  2024-01-06 00:00:00  0.581105   0.0\n",
       "1              3  2024-01-06 01:00:00  0.703946   0.6\n",
       "2              5  2024-01-06 02:00:00  0.782499   0.0\n",
       "3              8  2024-01-06 03:00:00  0.815235   0.6\n",
       "4             10  2024-01-06 04:00:00  0.782262   0.6\n",
       "...          ...                  ...       ...   ...\n",
       "8926       22316  2025-03-25 20:00:00  5.520691   9.4\n",
       "8927       22319  2025-03-25 21:00:00  4.874802   8.3\n",
       "8928       22321  2025-03-25 22:00:00  4.333488   7.2\n",
       "8929       22324  2025-03-25 23:00:00  3.853867   6.7\n",
       "8930       22326  2025-03-26 00:00:00  3.371774   5.6\n",
       "\n",
       "[8931 rows x 4 columns]"
      ]
     },
     "execution_count": 25,
     "metadata": {},
     "output_type": "execute_result"
    }
   ],
   "source": [
    "df"
   ]
  },
  {
   "cell_type": "markdown",
   "id": "58b94a9e",
   "metadata": {},
   "source": [
    "## 2) Model"
   ]
  },
  {
   "cell_type": "code",
   "execution_count": 30,
   "id": "2a031575",
   "metadata": {},
   "outputs": [],
   "source": [
    "all_dfs = []\n",
    "for i in range(5):\n",
    "    num = i+1\n",
    "    val_to_chop = 1 if num % 2 == 0 else 0\n",
    "    df = pd.read_csv(f'preds/test_pred{num}.csv')\n",
    "    df = df.iloc[val_to_chop:]\n",
    "    df.columns = ['X', 'dt', 'pred', 'true']\n",
    "    df.columns = [x+str(num) for x in df.columns]\n",
    "    all_dfs.append(df)\n",
    "\n",
    "df = pd.concat(all_dfs, axis = 1).dropna(subset=['true1', 'true2'])\n",
    "\n"
   ]
  },
  {
   "cell_type": "code",
   "execution_count": 32,
   "id": "a8b97511",
   "metadata": {},
   "outputs": [],
   "source": [
    "df['dt_all'] = pd.to_datetime(df['dt1'])"
   ]
  },
  {
   "cell_type": "code",
   "execution_count": 34,
   "id": "898c2845",
   "metadata": {},
   "outputs": [],
   "source": [
    "df['pred_all'] = (df['pred1'] + df['pred2'] + df['pred3'] + df['pred4'] + df['pred5']) / 5"
   ]
  },
  {
   "cell_type": "code",
   "execution_count": 125,
   "id": "e6d17e18",
   "metadata": {},
   "outputs": [],
   "source": [
    "df2 = df[['dt_all', 'pred1', 'pred2', 'pred3', 'pred4', 'pred5', 'pred_all', 'true1']]"
   ]
  },
  {
   "cell_type": "code",
   "execution_count": 136,
   "id": "2027a7d5",
   "metadata": {},
   "outputs": [
    {
     "data": {
      "text/plain": [
       "<matplotlib.legend.Legend at 0x33bcf0560>"
      ]
     },
     "execution_count": 136,
     "metadata": {},
     "output_type": "execute_result"
    },
    {
     "data": {
      "image/png": "[encoded data removed]",
      "text/plain": [
       "<Figure size 1200x800 with 1 Axes>"
      ]
     },
     "metadata": {},
     "output_type": "display_data"
    }
   ],
   "source": [
    "import matplotlib.pyplot as plt\n",
    "plt.figure(figsize=(12, 8))\n",
    "plt.plot(df2.dt_all, df2.pred2, color = 'blue', alpha=0.5, linewidth = 1, label = 'pred(one model)')\n",
    "\n",
    "plt.plot(df2.dt_all, df2.pred_all, color = 'black', alpha=1, linewidth = 1, label = 'pred(all models)')\n",
    "plt.plot(df2.shift(120).dt_all, df2.shift(120).true1, color = 'green', alpha = 0.2, linewidth = 2, label = 'true')\n",
    "plt.ylabel('Temperature (C)')\n",
    "plt.legend()"
   ]
  },
  {
   "cell_type": "code",
   "execution_count": 135,
   "id": "49153057",
   "metadata": {},
   "outputs": [
    {
     "data": {
      "text/html": [
       "<div>\n",
       "<style scoped>\n",
       "    .dataframe tbody tr th:only-of-type {\n",
       "        vertical-align: middle;\n",
       "    }\n",
       "\n",
       "    .dataframe tbody tr th {\n",
       "        vertical-align: top;\n",
       "    }\n",
       "\n",
       "    .dataframe thead th {\n",
       "        text-align: right;\n",
       "    }\n",
       "</style>\n",
       "<table border=\"1\" class=\"dataframe\">\n",
       "  <thead>\n",
       "    <tr style=\"text-align: right;\">\n",
       "      <th></th>\n",
       "      <th>dt_all</th>\n",
       "      <th>pred1</th>\n",
       "      <th>pred2</th>\n",
       "      <th>pred3</th>\n",
       "      <th>pred4</th>\n",
       "      <th>pred5</th>\n",
       "      <th>pred_all</th>\n",
       "      <th>true1</th>\n",
       "    </tr>\n",
       "  </thead>\n",
       "  <tbody>\n",
       "    <tr>\n",
       "      <th>1</th>\n",
       "      <td>2024-01-06 01:00:00</td>\n",
       "      <td>0.703946</td>\n",
       "      <td>1.300679</td>\n",
       "      <td>-0.475154</td>\n",
       "      <td>-0.834864</td>\n",
       "      <td>0.166780</td>\n",
       "      <td>0.172277</td>\n",
       "      <td>0.6</td>\n",
       "    </tr>\n",
       "    <tr>\n",
       "      <th>2</th>\n",
       "      <td>2024-01-06 02:00:00</td>\n",
       "      <td>0.782499</td>\n",
       "      <td>1.402089</td>\n",
       "      <td>-0.536018</td>\n",
       "      <td>-0.861708</td>\n",
       "      <td>0.024891</td>\n",
       "      <td>0.162351</td>\n",
       "      <td>0.0</td>\n",
       "    </tr>\n",
       "    <tr>\n",
       "      <th>3</th>\n",
       "      <td>2024-01-06 03:00:00</td>\n",
       "      <td>0.815235</td>\n",
       "      <td>1.526356</td>\n",
       "      <td>-0.579987</td>\n",
       "      <td>-0.869068</td>\n",
       "      <td>-0.058034</td>\n",
       "      <td>0.166900</td>\n",
       "      <td>0.6</td>\n",
       "    </tr>\n",
       "    <tr>\n",
       "      <th>4</th>\n",
       "      <td>2024-01-06 04:00:00</td>\n",
       "      <td>0.782262</td>\n",
       "      <td>1.531029</td>\n",
       "      <td>-0.609027</td>\n",
       "      <td>-0.870494</td>\n",
       "      <td>-0.198291</td>\n",
       "      <td>0.127096</td>\n",
       "      <td>0.6</td>\n",
       "    </tr>\n",
       "    <tr>\n",
       "      <th>5</th>\n",
       "      <td>2024-01-06 05:00:00</td>\n",
       "      <td>0.721137</td>\n",
       "      <td>0.983613</td>\n",
       "      <td>-0.593317</td>\n",
       "      <td>-0.855840</td>\n",
       "      <td>-0.265637</td>\n",
       "      <td>-0.002009</td>\n",
       "      <td>0.6</td>\n",
       "    </tr>\n",
       "    <tr>\n",
       "      <th>...</th>\n",
       "      <td>...</td>\n",
       "      <td>...</td>\n",
       "      <td>...</td>\n",
       "      <td>...</td>\n",
       "      <td>...</td>\n",
       "      <td>...</td>\n",
       "      <td>...</td>\n",
       "      <td>...</td>\n",
       "    </tr>\n",
       "    <tr>\n",
       "      <th>8926</th>\n",
       "      <td>2025-03-25 20:00:00</td>\n",
       "      <td>5.520691</td>\n",
       "      <td>5.986561</td>\n",
       "      <td>5.697683</td>\n",
       "      <td>5.312307</td>\n",
       "      <td>5.703497</td>\n",
       "      <td>5.644148</td>\n",
       "      <td>9.4</td>\n",
       "    </tr>\n",
       "    <tr>\n",
       "      <th>8927</th>\n",
       "      <td>2025-03-25 21:00:00</td>\n",
       "      <td>4.874802</td>\n",
       "      <td>5.460358</td>\n",
       "      <td>5.088749</td>\n",
       "      <td>4.544185</td>\n",
       "      <td>5.204608</td>\n",
       "      <td>5.034540</td>\n",
       "      <td>8.3</td>\n",
       "    </tr>\n",
       "    <tr>\n",
       "      <th>8928</th>\n",
       "      <td>2025-03-25 22:00:00</td>\n",
       "      <td>4.333488</td>\n",
       "      <td>5.087883</td>\n",
       "      <td>4.561253</td>\n",
       "      <td>4.046752</td>\n",
       "      <td>4.812275</td>\n",
       "      <td>4.568330</td>\n",
       "      <td>7.2</td>\n",
       "    </tr>\n",
       "    <tr>\n",
       "      <th>8929</th>\n",
       "      <td>2025-03-25 23:00:00</td>\n",
       "      <td>3.853867</td>\n",
       "      <td>4.983592</td>\n",
       "      <td>4.141381</td>\n",
       "      <td>3.792142</td>\n",
       "      <td>4.336757</td>\n",
       "      <td>4.221548</td>\n",
       "      <td>6.7</td>\n",
       "    </tr>\n",
       "    <tr>\n",
       "      <th>8930</th>\n",
       "      <td>2025-03-26 00:00:00</td>\n",
       "      <td>3.371774</td>\n",
       "      <td>4.801030</td>\n",
       "      <td>3.784870</td>\n",
       "      <td>3.506783</td>\n",
       "      <td>3.908252</td>\n",
       "      <td>3.874542</td>\n",
       "      <td>5.6</td>\n",
       "    </tr>\n",
       "  </tbody>\n",
       "</table>\n",
       "<p>8930 rows × 8 columns</p>\n",
       "</div>"
      ],
      "text/plain": [
       "                  dt_all     pred1     pred2     pred3     pred4     pred5  \\\n",
       "1    2024-01-06 01:00:00  0.703946  1.300679 -0.475154 -0.834864  0.166780   \n",
       "2    2024-01-06 02:00:00  0.782499  1.402089 -0.536018 -0.861708  0.024891   \n",
       "3    2024-01-06 03:00:00  0.815235  1.526356 -0.579987 -0.869068 -0.058034   \n",
       "4    2024-01-06 04:00:00  0.782262  1.531029 -0.609027 -0.870494 -0.198291   \n",
       "5    2024-01-06 05:00:00  0.721137  0.983613 -0.593317 -0.855840 -0.265637   \n",
       "...                  ...       ...       ...       ...       ...       ...   \n",
       "8926 2025-03-25 20:00:00  5.520691  5.986561  5.697683  5.312307  5.703497   \n",
       "8927 2025-03-25 21:00:00  4.874802  5.460358  5.088749  4.544185  5.204608   \n",
       "8928 2025-03-25 22:00:00  4.333488  5.087883  4.561253  4.046752  4.812275   \n",
       "8929 2025-03-25 23:00:00  3.853867  4.983592  4.141381  3.792142  4.336757   \n",
       "8930 2025-03-26 00:00:00  3.371774  4.801030  3.784870  3.506783  3.908252   \n",
       "\n",
       "      pred_all  true1  \n",
       "1     0.172277    0.6  \n",
       "2     0.162351    0.0  \n",
       "3     0.166900    0.6  \n",
       "4     0.127096    0.6  \n",
       "5    -0.002009    0.6  \n",
       "...        ...    ...  \n",
       "8926  5.644148    9.4  \n",
       "8927  5.034540    8.3  \n",
       "8928  4.568330    7.2  \n",
       "8929  4.221548    6.7  \n",
       "8930  3.874542    5.6  \n",
       "\n",
       "[8930 rows x 8 columns]"
      ]
     },
     "execution_count": 135,
     "metadata": {},
     "output_type": "execute_result"
    }
   ],
   "source": [
    "df2"
   ]
  },
  {
   "cell_type": "code",
   "execution_count": 54,
   "id": "94964078",
   "metadata": {},
   "outputs": [],
   "source": [
    "df2.to_csv('preds/test_predALL.csv')"
   ]
  },
  {
   "cell_type": "code",
   "execution_count": null,
   "id": "098a4a1f",
   "metadata": {},
   "outputs": [],
   "source": [
    "(df2.pred_all - df2.true1)"
   ]
  },
  {
   "cell_type": "code",
   "execution_count": null,
   "id": "324caf7f",
   "metadata": {},
   "outputs": [],
   "source": []
  },
  {
   "cell_type": "code",
   "execution_count": null,
   "id": "b402d84c",
   "metadata": {},
   "outputs": [
    {
     "name": "stdout",
     "output_type": "stream",
     "text": [
      "DEVICE='cpu'\n"
     ]
    }
   ],
   "source": [
    "import pathlib, time, torch, torch.nn as nn, torch.optim as optim\n",
    "from torch.utils.data import DataLoader, TensorDataset   # or your own Dataset\n",
    "from tqdm import tqdm\n",
    "import numpy as np\n",
    "import pandas as pd\n",
    "\n",
    "# ----------------------------------------------------------------------\n",
    "# 1. Hyper-parameters & paths\n",
    "# ----------------------------------------------------------------------\n",
    "day_extend  = 5\n",
    "INPUT_DIM   = (day_extend*24+1)*30*1 #5 features(usually *5), 30 id\n",
    "\n",
    "DEVICE = \"cuda\" if torch.cuda.is_available() else \"cpu\"\n",
    "print(f'{DEVICE=}')\n",
    "\n",
    "train_loader, val_loader = torch.load('../data/dl/train_dl.pth', weights_only=False), torch.load('../data/dl/val_dl.pth', weights_only=False)\n",
    "\n",
    "def create_model():\n",
    "    layers = []\n",
    "    layers = [nn.Linear(INPUT_DIM, 16), nn.ReLU()]\n",
    "    for _ in range(4):\n",
    "        layers += [nn.Linear(16, 16), nn.ReLU()]\n",
    "    layers += [nn.Linear(16, 1)]\n",
    "    model = nn.Sequential(*layers).to(DEVICE)\n",
    "    return modelMod\n",
    "\n",
    "model = create_model()"
   ]
  },
  {
   "cell_type": "code",
   "execution_count": null,
   "id": "fe89aed0",
   "metadata": {},
   "outputs": [],
   "source": []
  },
  {
   "cell_type": "code",
   "execution_count": null,
   "id": "9be686cc",
   "metadata": {},
   "outputs": [],
   "source": []
  },
  {
   "cell_type": "code",
   "execution_count": 81,
   "id": "a9f05438",
   "metadata": {},
   "outputs": [
    {
     "name": "stderr",
     "output_type": "stream",
     "text": [
      "  1%|          | 1/100 [00:00<01:10,  1.40it/s]"
     ]
    },
    {
     "name": "stdout",
     "output_type": "stream",
     "text": [
      "train_loss=82.28; val_loss=35.17\n"
     ]
    },
    {
     "name": "stderr",
     "output_type": "stream",
     "text": [
      "  2%|▏         | 2/100 [00:01<01:06,  1.47it/s]"
     ]
    },
    {
     "name": "stdout",
     "output_type": "stream",
     "text": [
      "train_loss=40.61; val_loss=34.58\n"
     ]
    },
    {
     "name": "stderr",
     "output_type": "stream",
     "text": [
      "  3%|▎         | 3/100 [00:01<01:03,  1.52it/s]"
     ]
    },
    {
     "name": "stdout",
     "output_type": "stream",
     "text": [
      "train_loss=39.29; val_loss=33.94\n"
     ]
    },
    {
     "name": "stderr",
     "output_type": "stream",
     "text": [
      "  4%|▍         | 4/100 [00:02<01:04,  1.48it/s]"
     ]
    },
    {
     "name": "stdout",
     "output_type": "stream",
     "text": [
      "train_loss=38.42; val_loss=33.59\n"
     ]
    },
    {
     "name": "stderr",
     "output_type": "stream",
     "text": [
      "  5%|▌         | 5/100 [00:03<01:04,  1.47it/s]"
     ]
    },
    {
     "name": "stdout",
     "output_type": "stream",
     "text": [
      "train_loss=37.88; val_loss=34.45\n"
     ]
    },
    {
     "name": "stderr",
     "output_type": "stream",
     "text": [
      "  6%|▌         | 6/100 [00:04<01:03,  1.49it/s]"
     ]
    },
    {
     "name": "stdout",
     "output_type": "stream",
     "text": [
      "train_loss=37.79; val_loss=33.81\n"
     ]
    },
    {
     "name": "stderr",
     "output_type": "stream",
     "text": [
      "  7%|▋         | 7/100 [00:04<01:02,  1.48it/s]"
     ]
    },
    {
     "name": "stdout",
     "output_type": "stream",
     "text": [
      "train_loss=37.46; val_loss=33.59\n"
     ]
    },
    {
     "name": "stderr",
     "output_type": "stream",
     "text": [
      "  8%|▊         | 8/100 [00:05<01:03,  1.46it/s]"
     ]
    },
    {
     "name": "stdout",
     "output_type": "stream",
     "text": [
      "train_loss=37.26; val_loss=33.45\n"
     ]
    },
    {
     "name": "stderr",
     "output_type": "stream",
     "text": [
      "  9%|▉         | 9/100 [00:06<01:00,  1.49it/s]"
     ]
    },
    {
     "name": "stdout",
     "output_type": "stream",
     "text": [
      "train_loss=37.09; val_loss=33.25\n"
     ]
    },
    {
     "name": "stderr",
     "output_type": "stream",
     "text": [
      " 10%|█         | 10/100 [00:06<00:59,  1.52it/s]"
     ]
    },
    {
     "name": "stdout",
     "output_type": "stream",
     "text": [
      "train_loss=36.93; val_loss=33.10\n"
     ]
    },
    {
     "name": "stderr",
     "output_type": "stream",
     "text": [
      " 11%|█         | 11/100 [00:07<00:59,  1.49it/s]"
     ]
    },
    {
     "name": "stdout",
     "output_type": "stream",
     "text": [
      "train_loss=36.77; val_loss=32.92\n"
     ]
    },
    {
     "name": "stderr",
     "output_type": "stream",
     "text": [
      " 12%|█▏        | 12/100 [00:08<01:00,  1.46it/s]"
     ]
    },
    {
     "name": "stdout",
     "output_type": "stream",
     "text": [
      "train_loss=36.62; val_loss=32.86\n"
     ]
    },
    {
     "name": "stderr",
     "output_type": "stream",
     "text": [
      " 13%|█▎        | 13/100 [00:08<00:59,  1.46it/s]"
     ]
    },
    {
     "name": "stdout",
     "output_type": "stream",
     "text": [
      "train_loss=36.50; val_loss=32.68\n"
     ]
    },
    {
     "name": "stderr",
     "output_type": "stream",
     "text": [
      " 14%|█▍        | 14/100 [00:09<00:59,  1.45it/s]"
     ]
    },
    {
     "name": "stdout",
     "output_type": "stream",
     "text": [
      "train_loss=36.37; val_loss=32.52\n"
     ]
    },
    {
     "name": "stderr",
     "output_type": "stream",
     "text": [
      " 15%|█▌        | 15/100 [00:10<00:59,  1.44it/s]"
     ]
    },
    {
     "name": "stdout",
     "output_type": "stream",
     "text": [
      "train_loss=36.22; val_loss=32.23\n"
     ]
    },
    {
     "name": "stderr",
     "output_type": "stream",
     "text": [
      " 16%|█▌        | 16/100 [00:10<00:57,  1.46it/s]"
     ]
    },
    {
     "name": "stdout",
     "output_type": "stream",
     "text": [
      "train_loss=36.10; val_loss=32.13\n"
     ]
    },
    {
     "name": "stderr",
     "output_type": "stream",
     "text": [
      " 17%|█▋        | 17/100 [00:11<00:57,  1.43it/s]"
     ]
    },
    {
     "name": "stdout",
     "output_type": "stream",
     "text": [
      "train_loss=35.99; val_loss=32.16\n"
     ]
    },
    {
     "name": "stderr",
     "output_type": "stream",
     "text": [
      " 18%|█▊        | 18/100 [00:12<00:57,  1.41it/s]"
     ]
    },
    {
     "name": "stdout",
     "output_type": "stream",
     "text": [
      "train_loss=35.90; val_loss=31.97\n"
     ]
    },
    {
     "name": "stderr",
     "output_type": "stream",
     "text": [
      " 19%|█▉        | 19/100 [00:13<00:56,  1.44it/s]"
     ]
    },
    {
     "name": "stdout",
     "output_type": "stream",
     "text": [
      "train_loss=35.81; val_loss=31.91\n"
     ]
    },
    {
     "name": "stderr",
     "output_type": "stream",
     "text": [
      " 20%|██        | 20/100 [00:13<00:55,  1.44it/s]"
     ]
    },
    {
     "name": "stdout",
     "output_type": "stream",
     "text": [
      "train_loss=35.69; val_loss=31.88\n"
     ]
    },
    {
     "name": "stderr",
     "output_type": "stream",
     "text": [
      " 21%|██        | 21/100 [00:14<00:55,  1.43it/s]"
     ]
    },
    {
     "name": "stdout",
     "output_type": "stream",
     "text": [
      "train_loss=35.63; val_loss=31.85\n"
     ]
    },
    {
     "name": "stderr",
     "output_type": "stream",
     "text": [
      " 22%|██▏       | 22/100 [00:15<00:54,  1.44it/s]"
     ]
    },
    {
     "name": "stdout",
     "output_type": "stream",
     "text": [
      "train_loss=35.53; val_loss=31.88\n"
     ]
    },
    {
     "name": "stderr",
     "output_type": "stream",
     "text": [
      " 23%|██▎       | 23/100 [00:15<00:53,  1.45it/s]"
     ]
    },
    {
     "name": "stdout",
     "output_type": "stream",
     "text": [
      "train_loss=35.45; val_loss=31.80\n"
     ]
    },
    {
     "name": "stderr",
     "output_type": "stream",
     "text": [
      " 24%|██▍       | 24/100 [00:16<00:53,  1.43it/s]"
     ]
    },
    {
     "name": "stdout",
     "output_type": "stream",
     "text": [
      "train_loss=35.38; val_loss=31.75\n"
     ]
    },
    {
     "name": "stderr",
     "output_type": "stream",
     "text": [
      " 25%|██▌       | 25/100 [00:17<00:52,  1.42it/s]"
     ]
    },
    {
     "name": "stdout",
     "output_type": "stream",
     "text": [
      "train_loss=35.29; val_loss=31.77\n"
     ]
    },
    {
     "name": "stderr",
     "output_type": "stream",
     "text": [
      " 26%|██▌       | 26/100 [00:17<00:51,  1.44it/s]"
     ]
    },
    {
     "name": "stdout",
     "output_type": "stream",
     "text": [
      "train_loss=35.23; val_loss=31.73\n"
     ]
    },
    {
     "name": "stderr",
     "output_type": "stream",
     "text": [
      " 27%|██▋       | 27/100 [00:18<00:50,  1.45it/s]"
     ]
    },
    {
     "name": "stdout",
     "output_type": "stream",
     "text": [
      "train_loss=35.17; val_loss=31.70\n"
     ]
    },
    {
     "name": "stderr",
     "output_type": "stream",
     "text": [
      " 28%|██▊       | 28/100 [00:19<00:49,  1.45it/s]"
     ]
    },
    {
     "name": "stdout",
     "output_type": "stream",
     "text": [
      "train_loss=35.08; val_loss=31.74\n"
     ]
    },
    {
     "name": "stderr",
     "output_type": "stream",
     "text": [
      " 29%|██▉       | 29/100 [00:19<00:47,  1.49it/s]"
     ]
    },
    {
     "name": "stdout",
     "output_type": "stream",
     "text": [
      "train_loss=35.01; val_loss=31.67\n"
     ]
    },
    {
     "name": "stderr",
     "output_type": "stream",
     "text": [
      " 30%|███       | 30/100 [00:20<00:47,  1.47it/s]"
     ]
    },
    {
     "name": "stdout",
     "output_type": "stream",
     "text": [
      "train_loss=34.93; val_loss=31.57\n"
     ]
    },
    {
     "name": "stderr",
     "output_type": "stream",
     "text": [
      " 31%|███       | 31/100 [00:21<00:47,  1.47it/s]"
     ]
    },
    {
     "name": "stdout",
     "output_type": "stream",
     "text": [
      "train_loss=34.85; val_loss=31.62\n"
     ]
    },
    {
     "name": "stderr",
     "output_type": "stream",
     "text": [
      " 32%|███▏      | 32/100 [00:21<00:45,  1.48it/s]"
     ]
    },
    {
     "name": "stdout",
     "output_type": "stream",
     "text": [
      "train_loss=34.82; val_loss=31.61\n"
     ]
    },
    {
     "name": "stderr",
     "output_type": "stream",
     "text": [
      " 33%|███▎      | 33/100 [00:22<00:44,  1.51it/s]"
     ]
    },
    {
     "name": "stdout",
     "output_type": "stream",
     "text": [
      "train_loss=34.73; val_loss=31.58\n"
     ]
    },
    {
     "name": "stderr",
     "output_type": "stream",
     "text": [
      " 34%|███▍      | 34/100 [00:23<00:44,  1.48it/s]"
     ]
    },
    {
     "name": "stdout",
     "output_type": "stream",
     "text": [
      "train_loss=34.67; val_loss=31.51\n"
     ]
    },
    {
     "name": "stderr",
     "output_type": "stream",
     "text": [
      " 35%|███▌      | 35/100 [00:23<00:44,  1.45it/s]"
     ]
    },
    {
     "name": "stdout",
     "output_type": "stream",
     "text": [
      "train_loss=34.60; val_loss=31.49\n"
     ]
    },
    {
     "name": "stderr",
     "output_type": "stream",
     "text": [
      " 36%|███▌      | 36/100 [00:24<00:43,  1.48it/s]"
     ]
    },
    {
     "name": "stdout",
     "output_type": "stream",
     "text": [
      "train_loss=34.53; val_loss=31.50\n"
     ]
    },
    {
     "name": "stderr",
     "output_type": "stream",
     "text": [
      " 37%|███▋      | 37/100 [00:25<00:42,  1.49it/s]"
     ]
    },
    {
     "name": "stdout",
     "output_type": "stream",
     "text": [
      "train_loss=34.48; val_loss=31.50\n"
     ]
    },
    {
     "name": "stderr",
     "output_type": "stream",
     "text": [
      " 38%|███▊      | 38/100 [00:26<00:42,  1.46it/s]"
     ]
    },
    {
     "name": "stdout",
     "output_type": "stream",
     "text": [
      "train_loss=34.41; val_loss=31.45\n"
     ]
    },
    {
     "name": "stderr",
     "output_type": "stream",
     "text": [
      " 39%|███▉      | 39/100 [00:26<00:41,  1.47it/s]"
     ]
    },
    {
     "name": "stdout",
     "output_type": "stream",
     "text": [
      "train_loss=34.35; val_loss=31.41\n"
     ]
    },
    {
     "name": "stderr",
     "output_type": "stream",
     "text": [
      " 40%|████      | 40/100 [00:27<00:39,  1.50it/s]"
     ]
    },
    {
     "name": "stdout",
     "output_type": "stream",
     "text": [
      "train_loss=34.28; val_loss=31.39\n"
     ]
    },
    {
     "name": "stderr",
     "output_type": "stream",
     "text": [
      " 41%|████      | 41/100 [00:27<00:39,  1.50it/s]"
     ]
    },
    {
     "name": "stdout",
     "output_type": "stream",
     "text": [
      "train_loss=34.20; val_loss=31.33\n"
     ]
    },
    {
     "name": "stderr",
     "output_type": "stream",
     "text": [
      " 42%|████▏     | 42/100 [00:28<00:39,  1.45it/s]"
     ]
    },
    {
     "name": "stdout",
     "output_type": "stream",
     "text": [
      "train_loss=34.13; val_loss=31.29\n"
     ]
    },
    {
     "name": "stderr",
     "output_type": "stream",
     "text": [
      " 43%|████▎     | 43/100 [00:29<00:39,  1.45it/s]"
     ]
    },
    {
     "name": "stdout",
     "output_type": "stream",
     "text": [
      "train_loss=34.06; val_loss=31.25\n"
     ]
    },
    {
     "name": "stderr",
     "output_type": "stream",
     "text": [
      " 44%|████▍     | 44/100 [00:30<00:39,  1.41it/s]"
     ]
    },
    {
     "name": "stdout",
     "output_type": "stream",
     "text": [
      "train_loss=34.00; val_loss=31.22\n"
     ]
    },
    {
     "name": "stderr",
     "output_type": "stream",
     "text": [
      " 45%|████▌     | 45/100 [00:30<00:39,  1.41it/s]"
     ]
    },
    {
     "name": "stdout",
     "output_type": "stream",
     "text": [
      "train_loss=33.92; val_loss=31.28\n"
     ]
    },
    {
     "name": "stderr",
     "output_type": "stream",
     "text": [
      " 46%|████▌     | 46/100 [00:31<00:37,  1.43it/s]"
     ]
    },
    {
     "name": "stdout",
     "output_type": "stream",
     "text": [
      "train_loss=33.87; val_loss=31.22\n"
     ]
    },
    {
     "name": "stderr",
     "output_type": "stream",
     "text": [
      " 47%|████▋     | 47/100 [00:32<00:37,  1.43it/s]"
     ]
    },
    {
     "name": "stdout",
     "output_type": "stream",
     "text": [
      "train_loss=33.80; val_loss=31.19\n"
     ]
    },
    {
     "name": "stderr",
     "output_type": "stream",
     "text": [
      " 48%|████▊     | 48/100 [00:32<00:36,  1.44it/s]"
     ]
    },
    {
     "name": "stdout",
     "output_type": "stream",
     "text": [
      "train_loss=33.73; val_loss=31.12\n"
     ]
    },
    {
     "name": "stderr",
     "output_type": "stream",
     "text": [
      " 49%|████▉     | 49/100 [00:33<00:35,  1.42it/s]"
     ]
    },
    {
     "name": "stdout",
     "output_type": "stream",
     "text": [
      "train_loss=33.67; val_loss=31.10\n"
     ]
    },
    {
     "name": "stderr",
     "output_type": "stream",
     "text": [
      " 50%|█████     | 50/100 [00:34<00:35,  1.42it/s]"
     ]
    },
    {
     "name": "stdout",
     "output_type": "stream",
     "text": [
      "train_loss=33.62; val_loss=31.08\n"
     ]
    },
    {
     "name": "stderr",
     "output_type": "stream",
     "text": [
      " 51%|█████     | 51/100 [00:35<00:35,  1.39it/s]"
     ]
    },
    {
     "name": "stdout",
     "output_type": "stream",
     "text": [
      "train_loss=33.56; val_loss=31.06\n"
     ]
    },
    {
     "name": "stderr",
     "output_type": "stream",
     "text": [
      " 52%|█████▏    | 52/100 [00:35<00:34,  1.41it/s]"
     ]
    },
    {
     "name": "stdout",
     "output_type": "stream",
     "text": [
      "train_loss=33.52; val_loss=31.10\n"
     ]
    },
    {
     "name": "stderr",
     "output_type": "stream",
     "text": [
      " 53%|█████▎    | 53/100 [00:36<00:32,  1.44it/s]"
     ]
    },
    {
     "name": "stdout",
     "output_type": "stream",
     "text": [
      "train_loss=33.47; val_loss=31.02\n"
     ]
    },
    {
     "name": "stderr",
     "output_type": "stream",
     "text": [
      " 54%|█████▍    | 54/100 [00:37<00:32,  1.42it/s]"
     ]
    },
    {
     "name": "stdout",
     "output_type": "stream",
     "text": [
      "train_loss=33.41; val_loss=31.02\n"
     ]
    },
    {
     "name": "stderr",
     "output_type": "stream",
     "text": [
      " 55%|█████▌    | 55/100 [00:37<00:32,  1.40it/s]"
     ]
    },
    {
     "name": "stdout",
     "output_type": "stream",
     "text": [
      "train_loss=33.37; val_loss=31.00\n"
     ]
    },
    {
     "name": "stderr",
     "output_type": "stream",
     "text": [
      " 56%|█████▌    | 56/100 [00:38<00:30,  1.42it/s]"
     ]
    },
    {
     "name": "stdout",
     "output_type": "stream",
     "text": [
      "train_loss=33.30; val_loss=31.00\n"
     ]
    },
    {
     "name": "stderr",
     "output_type": "stream",
     "text": [
      " 57%|█████▋    | 57/100 [00:39<00:30,  1.41it/s]"
     ]
    },
    {
     "name": "stdout",
     "output_type": "stream",
     "text": [
      "train_loss=33.27; val_loss=31.00\n"
     ]
    },
    {
     "name": "stderr",
     "output_type": "stream",
     "text": [
      " 58%|█████▊    | 58/100 [00:40<00:30,  1.39it/s]"
     ]
    },
    {
     "name": "stdout",
     "output_type": "stream",
     "text": [
      "train_loss=33.20; val_loss=30.98\n"
     ]
    },
    {
     "name": "stderr",
     "output_type": "stream",
     "text": [
      " 59%|█████▉    | 59/100 [00:40<00:29,  1.41it/s]"
     ]
    },
    {
     "name": "stdout",
     "output_type": "stream",
     "text": [
      "train_loss=33.17; val_loss=30.99\n"
     ]
    },
    {
     "name": "stderr",
     "output_type": "stream",
     "text": [
      " 60%|██████    | 60/100 [00:41<00:28,  1.42it/s]"
     ]
    },
    {
     "name": "stdout",
     "output_type": "stream",
     "text": [
      "train_loss=33.11; val_loss=30.96\n"
     ]
    },
    {
     "name": "stderr",
     "output_type": "stream",
     "text": [
      " 61%|██████    | 61/100 [00:42<00:28,  1.39it/s]"
     ]
    },
    {
     "name": "stdout",
     "output_type": "stream",
     "text": [
      "train_loss=33.07; val_loss=30.95\n"
     ]
    },
    {
     "name": "stderr",
     "output_type": "stream",
     "text": [
      " 62%|██████▏   | 62/100 [00:42<00:27,  1.40it/s]"
     ]
    },
    {
     "name": "stdout",
     "output_type": "stream",
     "text": [
      "train_loss=33.01; val_loss=30.96\n"
     ]
    },
    {
     "name": "stderr",
     "output_type": "stream",
     "text": [
      " 63%|██████▎   | 63/100 [00:43<00:26,  1.42it/s]"
     ]
    },
    {
     "name": "stdout",
     "output_type": "stream",
     "text": [
      "train_loss=32.96; val_loss=30.93\n"
     ]
    },
    {
     "name": "stderr",
     "output_type": "stream",
     "text": [
      " 64%|██████▍   | 64/100 [00:44<00:26,  1.38it/s]"
     ]
    },
    {
     "name": "stdout",
     "output_type": "stream",
     "text": [
      "train_loss=32.92; val_loss=30.91\n"
     ]
    },
    {
     "name": "stderr",
     "output_type": "stream",
     "text": [
      " 65%|██████▌   | 65/100 [00:45<00:25,  1.39it/s]"
     ]
    },
    {
     "name": "stdout",
     "output_type": "stream",
     "text": [
      "train_loss=32.87; val_loss=30.90\n"
     ]
    },
    {
     "name": "stderr",
     "output_type": "stream",
     "text": [
      " 66%|██████▌   | 66/100 [00:45<00:23,  1.43it/s]"
     ]
    },
    {
     "name": "stdout",
     "output_type": "stream",
     "text": [
      "train_loss=32.84; val_loss=30.96\n"
     ]
    },
    {
     "name": "stderr",
     "output_type": "stream",
     "text": [
      " 67%|██████▋   | 67/100 [00:46<00:22,  1.45it/s]"
     ]
    },
    {
     "name": "stdout",
     "output_type": "stream",
     "text": [
      "train_loss=32.79; val_loss=30.95\n"
     ]
    },
    {
     "name": "stderr",
     "output_type": "stream",
     "text": [
      " 68%|██████▊   | 68/100 [00:47<00:22,  1.43it/s]"
     ]
    },
    {
     "name": "stdout",
     "output_type": "stream",
     "text": [
      "train_loss=32.74; val_loss=30.92\n"
     ]
    },
    {
     "name": "stderr",
     "output_type": "stream",
     "text": [
      " 69%|██████▉   | 69/100 [00:47<00:21,  1.44it/s]"
     ]
    },
    {
     "name": "stdout",
     "output_type": "stream",
     "text": [
      "train_loss=32.69; val_loss=30.93\n"
     ]
    },
    {
     "name": "stderr",
     "output_type": "stream",
     "text": [
      " 69%|██████▉   | 69/100 [00:48<00:21,  1.42it/s]"
     ]
    },
    {
     "name": "stdout",
     "output_type": "stream",
     "text": [
      "train_loss=32.64; val_loss=30.93\n"
     ]
    },
    {
     "name": "stderr",
     "output_type": "stream",
     "text": [
      "\n"
     ]
    }
   ],
   "source": [
    "model = create_model()\n",
    "MAX_EPOCHS  = 100\n",
    "PATIENCE    = 5\n",
    "\n",
    "crit = nn.MSELoss()\n",
    "optimizer = optim.Adam(model.parameters(), lr=1e-4)\n",
    "\n",
    "best_val   = float(\"inf\")\n",
    "epochs_bad = 0\n",
    "\n",
    "for epoch in tqdm(range(1, MAX_EPOCHS + 1)):\n",
    "    ##### TRAIN #####\n",
    "    model.train()\n",
    "    running_loss, n = 0.0, 0\n",
    "    for xb, yb in train_loader:\n",
    "        xb, yb = xb.to(DEVICE), yb.to(DEVICE)\n",
    "        xb = xb.view(xb.size(0), -1)\n",
    "\n",
    "        optimizer.zero_grad()\n",
    "        preds = model(xb).view(-1)\n",
    "        loss  = crit(preds, yb)\n",
    "        loss.backward()\n",
    "        optimizer.step()\n",
    "\n",
    "        running_loss += loss.item() * len(xb)\n",
    "        n += len(xb)\n",
    "    train_loss = running_loss / n\n",
    "\n",
    "    ##### VAL #####\n",
    "    model.eval()\n",
    "    running_loss, n = 0.0, 0\n",
    "    for xb, yb in val_loader:\n",
    "        xb, yb = xb.to(DEVICE), yb.to(DEVICE)\n",
    "        xb = xb.view(xb.size(0), -1)\n",
    "        preds   = model(xb).view(-1)\n",
    "        loss    = crit(preds, yb)\n",
    "        running_loss += loss.item() * len(xb)\n",
    "        n += len(xb)\n",
    "    val_loss = running_loss / n\n",
    "\n",
    "    print(f'{train_loss=:.2f}; {val_loss=:.2f}')\n",
    "    if val_loss < best_val:\n",
    "        best_val = val_loss\n",
    "        epochs_bad = 0\n",
    "        torch.save(model.state_dict(), \"model/best_model.pth\")\n",
    "\n",
    "    else:\n",
    "        epochs_bad += 1\n",
    "        torch.save(model.state_dict(), f\"model/model_epoch{epoch}.pth\")\n",
    "    \n",
    "    if epochs_bad >= PATIENCE:\n",
    "        break\n"
   ]
  },
  {
   "cell_type": "code",
   "execution_count": null,
   "id": "7ad58949",
   "metadata": {},
   "outputs": [],
   "source": []
  },
  {
   "cell_type": "code",
   "execution_count": null,
   "id": "721e3d2a",
   "metadata": {},
   "outputs": [],
   "source": []
  }
 ],
 "metadata": {
  "kernelspec": {
   "display_name": "base",
   "language": "python",
   "name": "python3"
  },
  "language_info": {
   "codemirror_mode": {
    "name": "ipython",
    "version": 3
   },
   "file_extension": ".py",
   "mimetype": "text/x-python",
   "name": "python",
   "nbconvert_exporter": "python",
   "pygments_lexer": "ipython3",
   "version": "3.12.7"
  }
 },
 "nbformat": 4,
 "nbformat_minor": 5
}
